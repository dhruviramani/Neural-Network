{
 "cells": [
  {
   "cell_type": "code",
   "execution_count": 8,
   "metadata": {
    "ExecuteTime": {
     "end_time": "2021-08-20T16:04:10.650840Z",
     "start_time": "2021-08-20T16:04:10.646682Z"
    }
   },
   "outputs": [],
   "source": [
    "import tensorflow  as tf\n",
    "import numpy\n",
    "\n"
   ]
  },
  {
   "cell_type": "code",
   "execution_count": 8,
   "metadata": {
    "ExecuteTime": {
     "end_time": "2021-08-20T16:00:24.379904Z",
     "start_time": "2021-08-20T16:00:24.375274Z"
    }
   },
   "outputs": [],
   "source": [
    "import tensorflow as tf"
   ]
  },
  {
   "cell_type": "code",
   "execution_count": null,
   "metadata": {},
   "outputs": [],
   "source": [
    "conda install tensorflow "
   ]
  },
  {
   "cell_type": "code",
   "execution_count": 2,
   "metadata": {
    "ExecuteTime": {
     "end_time": "2021-08-20T15:59:26.255468Z",
     "start_time": "2021-08-20T15:59:18.237380Z"
    },
    "scrolled": true
   },
   "outputs": [
    {
     "name": "stdout",
     "output_type": "stream",
     "text": [
      "Requirement already satisfied: tensorflow in /Users/anaconda3/lib/python3.7/site-packages (2.5.0)\n",
      "Requirement already satisfied: wheel~=0.35 in /Users/anaconda3/lib/python3.7/site-packages (from tensorflow) (0.36.2)\n",
      "Requirement already satisfied: absl-py~=0.10 in /Users/anaconda3/lib/python3.7/site-packages (from tensorflow) (0.13.0)\n",
      "Requirement already satisfied: grpcio~=1.34.0 in /Users/anaconda3/lib/python3.7/site-packages (from tensorflow) (1.34.1)\n",
      "Requirement already satisfied: tensorboard~=2.5 in /Users/anaconda3/lib/python3.7/site-packages (from tensorflow) (2.5.0)\n",
      "Requirement already satisfied: opt-einsum~=3.3.0 in /Users/anaconda3/lib/python3.7/site-packages (from tensorflow) (3.3.0)\n",
      "Requirement already satisfied: typing-extensions~=3.7.4 in /Users/anaconda3/lib/python3.7/site-packages (from tensorflow) (3.7.4.3)\n",
      "Requirement already satisfied: protobuf>=3.9.2 in /Users/anaconda3/lib/python3.7/site-packages (from tensorflow) (3.15.6)\n",
      "Requirement already satisfied: termcolor~=1.1.0 in /Users/anaconda3/lib/python3.7/site-packages (from tensorflow) (1.1.0)\n",
      "Requirement already satisfied: numpy~=1.19.2 in /Users/anaconda3/lib/python3.7/site-packages (from tensorflow) (1.19.5)\n",
      "Requirement already satisfied: h5py~=3.1.0 in /Users/anaconda3/lib/python3.7/site-packages (from tensorflow) (3.1.0)\n",
      "Requirement already satisfied: astunparse~=1.6.3 in /Users/anaconda3/lib/python3.7/site-packages (from tensorflow) (1.6.3)\n",
      "Requirement already satisfied: six~=1.15.0 in /Users/anaconda3/lib/python3.7/site-packages (from tensorflow) (1.15.0)\n",
      "Requirement already satisfied: google-pasta~=0.2 in /Users/anaconda3/lib/python3.7/site-packages (from tensorflow) (0.2.0)\n",
      "Requirement already satisfied: keras-preprocessing~=1.1.2 in /Users/anaconda3/lib/python3.7/site-packages (from tensorflow) (1.1.2)\n",
      "Requirement already satisfied: flatbuffers~=1.12.0 in /Users/anaconda3/lib/python3.7/site-packages (from tensorflow) (1.12)\n",
      "Requirement already satisfied: keras-nightly~=2.5.0.dev in /Users/anaconda3/lib/python3.7/site-packages (from tensorflow) (2.5.0.dev2021032900)\n",
      "Requirement already satisfied: gast==0.4.0 in /Users/anaconda3/lib/python3.7/site-packages (from tensorflow) (0.4.0)\n",
      "Requirement already satisfied: wrapt~=1.12.1 in /Users/anaconda3/lib/python3.7/site-packages (from tensorflow) (1.12.1)\n",
      "Requirement already satisfied: tensorflow-estimator<2.6.0,>=2.5.0rc0 in /Users/anaconda3/lib/python3.7/site-packages (from tensorflow) (2.5.0)\n",
      "Requirement already satisfied: cached-property in /Users/anaconda3/lib/python3.7/site-packages (from h5py~=3.1.0->tensorflow) (1.5.2)\n",
      "Requirement already satisfied: google-auth<2,>=1.6.3 in /Users/anaconda3/lib/python3.7/site-packages (from tensorboard~=2.5->tensorflow) (1.7.1)\n",
      "Requirement already satisfied: tensorboard-plugin-wit>=1.6.0 in /Users/anaconda3/lib/python3.7/site-packages (from tensorboard~=2.5->tensorflow) (1.8.0)\n",
      "Requirement already satisfied: werkzeug>=0.11.15 in /Users/anaconda3/lib/python3.7/site-packages (from tensorboard~=2.5->tensorflow) (2.0.1)\n",
      "Requirement already satisfied: setuptools>=41.0.0 in /Users/anaconda3/lib/python3.7/site-packages (from tensorboard~=2.5->tensorflow) (54.1.2)\n",
      "Requirement already satisfied: markdown>=2.6.8 in /Users/anaconda3/lib/python3.7/site-packages (from tensorboard~=2.5->tensorflow) (3.1.1)\n",
      "Requirement already satisfied: google-auth-oauthlib<0.5,>=0.4.1 in /Users/anaconda3/lib/python3.7/site-packages (from tensorboard~=2.5->tensorflow) (0.4.1)\n",
      "Requirement already satisfied: requests<3,>=2.21.0 in /Users/anaconda3/lib/python3.7/site-packages (from tensorboard~=2.5->tensorflow) (2.22.0)\n",
      "Requirement already satisfied: tensorboard-data-server<0.7.0,>=0.6.0 in /Users/anaconda3/lib/python3.7/site-packages (from tensorboard~=2.5->tensorflow) (0.6.1)\n",
      "Requirement already satisfied: cachetools<3.2,>=2.0.0 in /Users/anaconda3/lib/python3.7/site-packages (from google-auth<2,>=1.6.3->tensorboard~=2.5->tensorflow) (3.1.1)\n",
      "Requirement already satisfied: pyasn1-modules>=0.2.1 in /Users/anaconda3/lib/python3.7/site-packages (from google-auth<2,>=1.6.3->tensorboard~=2.5->tensorflow) (0.2.7)\n",
      "Requirement already satisfied: rsa<4.1,>=3.1.4 in /Users/anaconda3/lib/python3.7/site-packages (from google-auth<2,>=1.6.3->tensorboard~=2.5->tensorflow) (4.0)\n",
      "Requirement already satisfied: requests-oauthlib>=0.7.0 in /Users/anaconda3/lib/python3.7/site-packages (from google-auth-oauthlib<0.5,>=0.4.1->tensorboard~=2.5->tensorflow) (1.3.0)\n",
      "Requirement already satisfied: pyasn1<0.5.0,>=0.4.6 in /Users/anaconda3/lib/python3.7/site-packages (from pyasn1-modules>=0.2.1->google-auth<2,>=1.6.3->tensorboard~=2.5->tensorflow) (0.4.8)\n",
      "Requirement already satisfied: chardet<3.1.0,>=3.0.2 in /Users/anaconda3/lib/python3.7/site-packages (from requests<3,>=2.21.0->tensorboard~=2.5->tensorflow) (3.0.4)\n",
      "Requirement already satisfied: idna<2.9,>=2.5 in /Users/anaconda3/lib/python3.7/site-packages (from requests<3,>=2.21.0->tensorboard~=2.5->tensorflow) (2.8)\n",
      "Requirement already satisfied: urllib3!=1.25.0,!=1.25.1,<1.26,>=1.21.1 in /Users/anaconda3/lib/python3.7/site-packages (from requests<3,>=2.21.0->tensorboard~=2.5->tensorflow) (1.24.2)\n",
      "Requirement already satisfied: certifi>=2017.4.17 in /Users/anaconda3/lib/python3.7/site-packages (from requests<3,>=2.21.0->tensorboard~=2.5->tensorflow) (2019.9.11)\n",
      "Requirement already satisfied: oauthlib>=3.0.0 in /Users/anaconda3/lib/python3.7/site-packages (from requests-oauthlib>=0.7.0->google-auth-oauthlib<0.5,>=0.4.1->tensorboard~=2.5->tensorflow) (3.1.0)\n",
      "\u001b[33mWARNING: You are using pip version 21.0.1; however, version 21.2.4 is available.\n",
      "You should consider upgrading via the '/Users/anaconda3/bin/python -m pip install --upgrade pip' command.\u001b[0m\n",
      "Requirement already satisfied: keras in /Users/anaconda3/lib/python3.7/site-packages (2.4.3)\n",
      "Requirement already satisfied: scipy>=0.14 in /Users/anaconda3/lib/python3.7/site-packages (from keras) (1.6.2)\n",
      "Requirement already satisfied: numpy>=1.9.1 in /Users/anaconda3/lib/python3.7/site-packages (from keras) (1.19.5)\n",
      "Requirement already satisfied: pyyaml in /Users/anaconda3/lib/python3.7/site-packages (from keras) (5.1.2)\n",
      "Requirement already satisfied: h5py in /Users/anaconda3/lib/python3.7/site-packages (from keras) (3.1.0)\n",
      "Requirement already satisfied: cached-property in /Users/anaconda3/lib/python3.7/site-packages (from h5py->keras) (1.5.2)\n",
      "\u001b[33mWARNING: You are using pip version 21.0.1; however, version 21.2.4 is available.\n",
      "You should consider upgrading via the '/Users/anaconda3/bin/python -m pip install --upgrade pip' command.\u001b[0m\n"
     ]
    }
   ],
   "source": [
    "!pip install tensorflow\n",
    "!pip install keras "
   ]
  },
  {
   "cell_type": "code",
   "execution_count": 9,
   "metadata": {
    "ExecuteTime": {
     "end_time": "2021-08-20T16:04:17.809771Z",
     "start_time": "2021-08-20T16:04:17.778758Z"
    }
   },
   "outputs": [],
   "source": [
    "# fix random seed for reproducibility\n",
    "seed = 7\n",
    "numpy.random.seed(seed)\n",
    "# load pima indians dataset\n",
    "dataset = numpy.loadtxt(\"pima-indians-diabetes.csv\", delimiter=\",\")\n",
    "# split into input (X) and output (Y) variables\n",
    "X = dataset[:,0:8]\n",
    "Y = dataset[:,8]\n"
   ]
  },
  {
   "cell_type": "code",
   "execution_count": 13,
   "metadata": {
    "ExecuteTime": {
     "end_time": "2021-08-20T16:05:28.641236Z",
     "start_time": "2021-08-20T16:05:28.568090Z"
    }
   },
   "outputs": [],
   "source": [
    "# create model\n",
    "model = tf.keras.models.Sequential()\n",
    "model.add(tf.keras.layers.Dense(12, input_dim=8, activation='sigmoid'))\n",
    "model.add(tf.keras.layers.Dense(9,  activation='sigmoid'))\n",
    "model.add(tf.keras.layers.Dense(1, activation='sigmoid'))"
   ]
  },
  {
   "cell_type": "code",
   "execution_count": 14,
   "metadata": {
    "ExecuteTime": {
     "end_time": "2021-08-20T16:05:29.909710Z",
     "start_time": "2021-08-20T16:05:29.896197Z"
    }
   },
   "outputs": [
    {
     "name": "stdout",
     "output_type": "stream",
     "text": [
      "Model: \"sequential_3\"\n",
      "_________________________________________________________________\n",
      "Layer (type)                 Output Shape              Param #   \n",
      "=================================================================\n",
      "dense (Dense)                (None, 12)                108       \n",
      "_________________________________________________________________\n",
      "dense_1 (Dense)              (None, 9)                 117       \n",
      "_________________________________________________________________\n",
      "dense_2 (Dense)              (None, 1)                 10        \n",
      "=================================================================\n",
      "Total params: 235\n",
      "Trainable params: 235\n",
      "Non-trainable params: 0\n",
      "_________________________________________________________________\n"
     ]
    }
   ],
   "source": [
    "model.summary()"
   ]
  },
  {
   "attachments": {
    "image.png": {
     "image/png": "[encoded data removed]"
    }
   },
   "cell_type": "markdown",
   "metadata": {},
   "source": [
    "![image.png](attachment:image.png)"
   ]
  },
  {
   "cell_type": "code",
   "execution_count": 15,
   "metadata": {
    "ExecuteTime": {
     "end_time": "2021-08-20T16:05:35.807577Z",
     "start_time": "2021-08-20T16:05:35.791826Z"
    }
   },
   "outputs": [],
   "source": [
    "# Compile model\n",
    "model.compile(loss='binary_crossentropy', optimizer='adam', metrics=['accuracy'])"
   ]
  },
  {
   "cell_type": "code",
   "execution_count": 16,
   "metadata": {
    "ExecuteTime": {
     "end_time": "2021-08-20T16:05:39.868455Z",
     "start_time": "2021-08-20T16:05:36.391332Z"
    },
    "scrolled": true
   },
   "outputs": [
    {
     "name": "stdout",
     "output_type": "stream",
     "text": [
      "Epoch 1/50\n",
      "7/7 [==============================] - 1s 26ms/step - loss: 0.7498 - accuracy: 0.3469 - val_loss: 0.7429 - val_accuracy: 0.3571\n",
      "Epoch 2/50\n",
      "7/7 [==============================] - 0s 7ms/step - loss: 0.7331 - accuracy: 0.3469 - val_loss: 0.7300 - val_accuracy: 0.3571\n",
      "Epoch 3/50\n",
      "7/7 [==============================] - 0s 10ms/step - loss: 0.7190 - accuracy: 0.3469 - val_loss: 0.7181 - val_accuracy: 0.3571\n",
      "Epoch 4/50\n",
      "7/7 [==============================] - 0s 9ms/step - loss: 0.7053 - accuracy: 0.3941 - val_loss: 0.7076 - val_accuracy: 0.3506\n",
      "Epoch 5/50\n",
      "7/7 [==============================] - 0s 10ms/step - loss: 0.6935 - accuracy: 0.4935 - val_loss: 0.6987 - val_accuracy: 0.5130\n",
      "Epoch 6/50\n",
      "7/7 [==============================] - 0s 6ms/step - loss: 0.6845 - accuracy: 0.6450 - val_loss: 0.6915 - val_accuracy: 0.5325\n",
      "Epoch 7/50\n",
      "7/7 [==============================] - 0s 6ms/step - loss: 0.6763 - accuracy: 0.6384 - val_loss: 0.6851 - val_accuracy: 0.6039\n",
      "Epoch 8/50\n",
      "7/7 [==============================] - 0s 6ms/step - loss: 0.6682 - accuracy: 0.6515 - val_loss: 0.6795 - val_accuracy: 0.6299\n",
      "Epoch 9/50\n",
      "7/7 [==============================] - 0s 8ms/step - loss: 0.6616 - accuracy: 0.6515 - val_loss: 0.6749 - val_accuracy: 0.6299\n",
      "Epoch 10/50\n",
      "7/7 [==============================] - 0s 11ms/step - loss: 0.6569 - accuracy: 0.6515 - val_loss: 0.6707 - val_accuracy: 0.6429\n",
      "Epoch 11/50\n",
      "7/7 [==============================] - 0s 6ms/step - loss: 0.6519 - accuracy: 0.6515 - val_loss: 0.6673 - val_accuracy: 0.6494\n",
      "Epoch 12/50\n",
      "7/7 [==============================] - 0s 5ms/step - loss: 0.6483 - accuracy: 0.6515 - val_loss: 0.6647 - val_accuracy: 0.6494\n",
      "Epoch 13/50\n",
      "7/7 [==============================] - 0s 5ms/step - loss: 0.6455 - accuracy: 0.6531 - val_loss: 0.6619 - val_accuracy: 0.6558\n",
      "Epoch 14/50\n",
      "7/7 [==============================] - 0s 8ms/step - loss: 0.6429 - accuracy: 0.6531 - val_loss: 0.6591 - val_accuracy: 0.6429\n",
      "Epoch 15/50\n",
      "7/7 [==============================] - 0s 6ms/step - loss: 0.6409 - accuracy: 0.6531 - val_loss: 0.6564 - val_accuracy: 0.6429\n",
      "Epoch 16/50\n",
      "7/7 [==============================] - 0s 5ms/step - loss: 0.6390 - accuracy: 0.6531 - val_loss: 0.6545 - val_accuracy: 0.6429\n",
      "Epoch 17/50\n",
      "7/7 [==============================] - 0s 5ms/step - loss: 0.6377 - accuracy: 0.6531 - val_loss: 0.6536 - val_accuracy: 0.6429\n",
      "Epoch 18/50\n",
      "7/7 [==============================] - 0s 5ms/step - loss: 0.6367 - accuracy: 0.6531 - val_loss: 0.6528 - val_accuracy: 0.6429\n",
      "Epoch 19/50\n",
      "7/7 [==============================] - 0s 9ms/step - loss: 0.6358 - accuracy: 0.6531 - val_loss: 0.6523 - val_accuracy: 0.6429\n",
      "Epoch 20/50\n",
      "7/7 [==============================] - 0s 11ms/step - loss: 0.6350 - accuracy: 0.6531 - val_loss: 0.6517 - val_accuracy: 0.6429\n",
      "Epoch 21/50\n",
      "7/7 [==============================] - 0s 6ms/step - loss: 0.6343 - accuracy: 0.6531 - val_loss: 0.6512 - val_accuracy: 0.6429\n",
      "Epoch 22/50\n",
      "7/7 [==============================] - 0s 6ms/step - loss: 0.6334 - accuracy: 0.6531 - val_loss: 0.6508 - val_accuracy: 0.6429\n",
      "Epoch 23/50\n",
      "7/7 [==============================] - 0s 6ms/step - loss: 0.6325 - accuracy: 0.6531 - val_loss: 0.6517 - val_accuracy: 0.6429\n",
      "Epoch 24/50\n",
      "7/7 [==============================] - 0s 5ms/step - loss: 0.6320 - accuracy: 0.6531 - val_loss: 0.6518 - val_accuracy: 0.6429\n",
      "Epoch 25/50\n",
      "7/7 [==============================] - 0s 5ms/step - loss: 0.6319 - accuracy: 0.6531 - val_loss: 0.6512 - val_accuracy: 0.6429\n",
      "Epoch 26/50\n",
      "7/7 [==============================] - 0s 6ms/step - loss: 0.6315 - accuracy: 0.6531 - val_loss: 0.6515 - val_accuracy: 0.6429\n",
      "Epoch 27/50\n",
      "7/7 [==============================] - 0s 5ms/step - loss: 0.6313 - accuracy: 0.6531 - val_loss: 0.6516 - val_accuracy: 0.6429\n",
      "Epoch 28/50\n",
      "7/7 [==============================] - 0s 5ms/step - loss: 0.6310 - accuracy: 0.6531 - val_loss: 0.6512 - val_accuracy: 0.6429\n",
      "Epoch 29/50\n",
      "7/7 [==============================] - 0s 5ms/step - loss: 0.6310 - accuracy: 0.6531 - val_loss: 0.6512 - val_accuracy: 0.6429\n",
      "Epoch 30/50\n",
      "7/7 [==============================] - 0s 9ms/step - loss: 0.6307 - accuracy: 0.6531 - val_loss: 0.6513 - val_accuracy: 0.6429\n",
      "Epoch 31/50\n",
      "7/7 [==============================] - 0s 9ms/step - loss: 0.6304 - accuracy: 0.6531 - val_loss: 0.6515 - val_accuracy: 0.6429\n",
      "Epoch 32/50\n",
      "7/7 [==============================] - 0s 11ms/step - loss: 0.6301 - accuracy: 0.6531 - val_loss: 0.6514 - val_accuracy: 0.6429\n",
      "Epoch 33/50\n",
      "7/7 [==============================] - 0s 7ms/step - loss: 0.6300 - accuracy: 0.6531 - val_loss: 0.6518 - val_accuracy: 0.6429\n",
      "Epoch 34/50\n",
      "7/7 [==============================] - 0s 5ms/step - loss: 0.6298 - accuracy: 0.6531 - val_loss: 0.6522 - val_accuracy: 0.6429\n",
      "Epoch 35/50\n",
      "7/7 [==============================] - 0s 7ms/step - loss: 0.6296 - accuracy: 0.6531 - val_loss: 0.6524 - val_accuracy: 0.6429\n",
      "Epoch 36/50\n",
      "7/7 [==============================] - 0s 6ms/step - loss: 0.6294 - accuracy: 0.6531 - val_loss: 0.6523 - val_accuracy: 0.6429\n",
      "Epoch 37/50\n",
      "7/7 [==============================] - 0s 5ms/step - loss: 0.6291 - accuracy: 0.6531 - val_loss: 0.6521 - val_accuracy: 0.6429\n",
      "Epoch 38/50\n",
      "7/7 [==============================] - 0s 9ms/step - loss: 0.6288 - accuracy: 0.6531 - val_loss: 0.6520 - val_accuracy: 0.6429\n",
      "Epoch 39/50\n",
      "7/7 [==============================] - 0s 6ms/step - loss: 0.6286 - accuracy: 0.6531 - val_loss: 0.6519 - val_accuracy: 0.6429\n",
      "Epoch 40/50\n",
      "7/7 [==============================] - 0s 6ms/step - loss: 0.6283 - accuracy: 0.6531 - val_loss: 0.6517 - val_accuracy: 0.6429\n",
      "Epoch 41/50\n",
      "7/7 [==============================] - 0s 6ms/step - loss: 0.6283 - accuracy: 0.6531 - val_loss: 0.6517 - val_accuracy: 0.6429\n",
      "Epoch 42/50\n",
      "7/7 [==============================] - 0s 5ms/step - loss: 0.6282 - accuracy: 0.6531 - val_loss: 0.6517 - val_accuracy: 0.6429\n",
      "Epoch 43/50\n",
      "7/7 [==============================] - 0s 6ms/step - loss: 0.6278 - accuracy: 0.6531 - val_loss: 0.6518 - val_accuracy: 0.6429\n",
      "Epoch 44/50\n",
      "7/7 [==============================] - 0s 5ms/step - loss: 0.6274 - accuracy: 0.6547 - val_loss: 0.6520 - val_accuracy: 0.6429\n",
      "Epoch 45/50\n",
      "7/7 [==============================] - 0s 9ms/step - loss: 0.6273 - accuracy: 0.6547 - val_loss: 0.6522 - val_accuracy: 0.6429\n",
      "Epoch 46/50\n",
      "7/7 [==============================] - 0s 5ms/step - loss: 0.6271 - accuracy: 0.6547 - val_loss: 0.6525 - val_accuracy: 0.6429\n",
      "Epoch 47/50\n",
      "7/7 [==============================] - 0s 6ms/step - loss: 0.6268 - accuracy: 0.6547 - val_loss: 0.6524 - val_accuracy: 0.6429\n",
      "Epoch 48/50\n",
      "7/7 [==============================] - 0s 6ms/step - loss: 0.6264 - accuracy: 0.6547 - val_loss: 0.6519 - val_accuracy: 0.6429\n",
      "Epoch 49/50\n",
      "7/7 [==============================] - 0s 6ms/step - loss: 0.6265 - accuracy: 0.6531 - val_loss: 0.6517 - val_accuracy: 0.6429\n",
      "Epoch 50/50\n",
      "7/7 [==============================] - 0s 5ms/step - loss: 0.6265 - accuracy: 0.6547 - val_loss: 0.6514 - val_accuracy: 0.6429\n"
     ]
    }
   ],
   "source": [
    "# Fit the model\n",
    "history=model.fit(X, Y, validation_split=0.20, epochs=50, batch_size=100)"
   ]
  },
  {
   "cell_type": "code",
   "execution_count": 17,
   "metadata": {
    "ExecuteTime": {
     "end_time": "2021-08-20T16:05:40.650499Z",
     "start_time": "2021-08-20T16:05:40.612391Z"
    }
   },
   "outputs": [],
   "source": [
    "model.save_weights(\"mywt.kmw\")"
   ]
  },
  {
   "cell_type": "code",
   "execution_count": 18,
   "metadata": {
    "ExecuteTime": {
     "end_time": "2021-08-20T16:05:41.646376Z",
     "start_time": "2021-08-20T16:05:41.471397Z"
    }
   },
   "outputs": [
    {
     "name": "stdout",
     "output_type": "stream",
     "text": [
      "24/24 [==============================] - 0s 1ms/step - loss: 0.6313 - accuracy: 0.6523\n",
      "accuracy: 65.23%\n"
     ]
    }
   ],
   "source": [
    "# evaluate the model\n",
    "scores = model.evaluate(X, Y)\n",
    "print(\"%s: %.2f%%\" % (model.metrics_names[1], scores[1]*100))"
   ]
  },
  {
   "cell_type": "code",
   "execution_count": 19,
   "metadata": {
    "ExecuteTime": {
     "end_time": "2021-08-20T16:05:44.545331Z",
     "start_time": "2021-08-20T16:05:44.186682Z"
    }
   },
   "outputs": [],
   "source": [
    "# Visualize training history\n",
    "\n",
    "# list all data in history\n",
    "model.history.history.keys()\n",
    "import matplotlib.pyplot as plt"
   ]
  },
  {
   "cell_type": "code",
   "execution_count": 21,
   "metadata": {
    "ExecuteTime": {
     "end_time": "2021-08-20T16:05:49.941184Z",
     "start_time": "2021-08-20T16:05:49.903710Z"
    }
   },
   "outputs": [
    {
     "data": {
      "text/plain": [
       "dict_keys(['loss', 'accuracy', 'val_loss', 'val_accuracy'])"
      ]
     },
     "execution_count": 21,
     "metadata": {},
     "output_type": "execute_result"
    }
   ],
   "source": [
    "history.history.keys()"
   ]
  },
  {
   "cell_type": "code",
   "execution_count": 22,
   "metadata": {
    "ExecuteTime": {
     "end_time": "2021-08-20T16:05:51.736044Z",
     "start_time": "2021-08-20T16:05:51.385405Z"
    }
   },
   "outputs": [
    {
     "data": {
      "image/png": "[encoded data removed]",
      "text/plain": [
       "<Figure size 432x288 with 1 Axes>"
      ]
     },
     "metadata": {
      "needs_background": "light"
     },
     "output_type": "display_data"
    },
    {
     "data": {
      "image/png": "[encoded data removed]",
      "text/plain": [
       "<Figure size 432x288 with 1 Axes>"
      ]
     },
     "metadata": {
      "needs_background": "light"
     },
     "output_type": "display_data"
    }
   ],
   "source": [
    "# summarize history for accuracy\n",
    "plt.plot(history.history['accuracy'])\n",
    "plt.plot(history.history['val_accuracy'])\n",
    "plt.title('model accuracy')\n",
    "plt.ylabel('accuracy')\n",
    "plt.xlabel('epoch')\n",
    "plt.legend(['train', 'test'], loc='upper left')\n",
    "plt.show()\n",
    "# summarize history for loss\n",
    "plt.plot(history.history['loss'])\n",
    "plt.plot(history.history['val_loss'])\n",
    "plt.title('model loss')\n",
    "plt.ylabel('loss')\n",
    "plt.xlabel('epoch')\n",
    "plt.legend(['train', 'test'], loc='upper left')\n",
    "plt.show()\n"
   ]
  },
  {
   "cell_type": "code",
   "execution_count": null,
   "metadata": {},
   "outputs": [],
   "source": []
  }
 ],
 "metadata": {
  "kernelspec": {
   "display_name": "Python 3",
   "language": "python",
   "name": "python3"
  },
  "language_info": {
   "codemirror_mode": {
    "name": "ipython",
    "version": 3
   },
   "file_extension": ".py",
   "mimetype": "text/x-python",
   "name": "python",
   "nbconvert_exporter": "python",
   "pygments_lexer": "ipython3",
   "version": "3.7.4"
  }
 },
 "nbformat": 4,
 "nbformat_minor": 2
}
